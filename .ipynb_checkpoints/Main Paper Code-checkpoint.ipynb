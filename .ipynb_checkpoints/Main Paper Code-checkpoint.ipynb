{
 "cells": [
  {
   "cell_type": "markdown",
   "id": "f9207b0c",
   "metadata": {},
   "source": [
    "# Unsupervised outlier detection for Time series data using LSTM + AE"
   ]
  },
  {
   "cell_type": "markdown",
   "id": "f4f499db",
   "metadata": {},
   "source": [
    "Feature : CO, CO2, TVOC, PM Number   \n",
    "Time : 2021-12-22 11:00:00 ~ 2022-01-12 10:30:00 (30min)"
   ]
  },
  {
   "cell_type": "markdown",
   "id": "1daed83b",
   "metadata": {},
   "source": [
    "## 1. Data Load & Preprocessing"
   ]
  },
  {
   "cell_type": "markdown",
   "id": "d371f34a",
   "metadata": {},
   "source": [
    "### 필요한 라이브러리 호출"
   ]
  },
  {
   "cell_type": "code",
   "execution_count": 10,
   "id": "27be48ef",
   "metadata": {},
   "outputs": [],
   "source": [
    "import glob\n",
    "\n",
    "import pandas as pd\n",
    "import numpy as np\n",
    "import datetime\n",
    "import time\n",
    "\n",
    "import seaborn as sns\n",
    "import matplotlib.pyplot as plt\n",
    "import matplotlib\n",
    "\n",
    "matplotlib.rcParams['font.family']='Malgun Gothic'\n",
    "matplotlib.rcParams['axes.unicode_minus'] = False   # 한글 폰트 패치.\n",
    "\n",
    "import warnings\n",
    "warnings.filterwarnings('ignore')   # 경고문 처리."
   ]
  },
  {
   "cell_type": "markdown",
   "id": "247f5fb5",
   "metadata": {},
   "source": [
    "### 데이터 불러오기 & 전처리"
   ]
  },
  {
   "cell_type": "code",
   "execution_count": 65,
   "id": "9f2e6215",
   "metadata": {},
   "outputs": [],
   "source": [
    "# 전처리 함수\n",
    "def preprocessing(df):\n",
    "    # 모든 값을 실수 값으로 변환\n",
    "    df.iloc[:,1:] = df.iloc[:,1:].astype(float)\n",
    "    # 결측치 처리\n",
    "    df.fillna(method='bfill',inplace=True)\n",
    "    df.fillna(method='ffill',inplace=True)\n",
    "    # 시간 열을 datetime 타입으로 변환\n",
    "    df['Time'] = pd.to_datetime(df['Time'])\n",
    "    \n",
    "    return df\n",
    "\n",
    "# 데이터 로드 함수\n",
    "def data_load(files):\n",
    "    df_list=[]\n",
    "    # 디렉토리로부터 csv파일 불러오기\n",
    "    for i in range(len(files)):\n",
    "        df = pd.read_csv(files[i])\n",
    "        df_list.append(df)\n",
    "    \n",
    "    # 각 파일별로 전처리 후 데이터셋 구성\n",
    "    dataset = preprocessing(df_list[0])\n",
    "    if len(df_list) == 1:\n",
    "        pass\n",
    "    else:\n",
    "        for j in range(len(df_list)-1):\n",
    "            df = preprocessing(df_list[j+1])\n",
    "            dataset = pd.merge(dataset,df,how='inner')\n",
    "    \n",
    "    return dataset"
   ]
  },
  {
   "cell_type": "code",
   "execution_count": 66,
   "id": "e3199662",
   "metadata": {},
   "outputs": [
    {
     "name": "stdout",
     "output_type": "stream",
     "text": [
      "Total numbers of files : 3\n",
      "['C:/myPyCode/AI_DATA/Outlier Detection\\\\CO, CO2 2022-01-12 10_50_41.csv', 'C:/myPyCode/AI_DATA/Outlier Detection\\\\PM Number 2022-01-12 10_52_02.csv', 'C:/myPyCode/AI_DATA/Outlier Detection\\\\TVOC 2022-01-12 10_51_31.csv']\n"
     ]
    }
   ],
   "source": [
    "# 파일 경로 설정\n",
    "dir_path = 'C:/myPyCode/AI_DATA/Outlier Detection/'\n",
    "files = glob.glob(dir_path+'*.csv')\n",
    "print('Total numbers of files :',len(files))\n",
    "print(files)"
   ]
  },
  {
   "cell_type": "code",
   "execution_count": 69,
   "id": "39b795a0",
   "metadata": {},
   "outputs": [
    {
     "name": "stdout",
     "output_type": "stream",
     "text": [
      "(1000, 5)\n"
     ]
    },
    {
     "data": {
      "text/html": [
       "<div>\n",
       "<style scoped>\n",
       "    .dataframe tbody tr th:only-of-type {\n",
       "        vertical-align: middle;\n",
       "    }\n",
       "\n",
       "    .dataframe tbody tr th {\n",
       "        vertical-align: top;\n",
       "    }\n",
       "\n",
       "    .dataframe thead th {\n",
       "        text-align: right;\n",
       "    }\n",
       "</style>\n",
       "<table border=\"1\" class=\"dataframe\">\n",
       "  <thead>\n",
       "    <tr style=\"text-align: right;\">\n",
       "      <th></th>\n",
       "      <th>Time</th>\n",
       "      <th>CO</th>\n",
       "      <th>CO2</th>\n",
       "      <th>PM 0.5</th>\n",
       "      <th>TVOC</th>\n",
       "    </tr>\n",
       "  </thead>\n",
       "  <tbody>\n",
       "    <tr>\n",
       "      <th>0</th>\n",
       "      <td>2021-12-22 11:00:00</td>\n",
       "      <td>3531.0</td>\n",
       "      <td>1045.0</td>\n",
       "      <td>152.0</td>\n",
       "      <td>594.0</td>\n",
       "    </tr>\n",
       "    <tr>\n",
       "      <th>1</th>\n",
       "      <td>2021-12-22 12:00:00</td>\n",
       "      <td>3451.0</td>\n",
       "      <td>1146.0</td>\n",
       "      <td>139.0</td>\n",
       "      <td>629.0</td>\n",
       "    </tr>\n",
       "    <tr>\n",
       "      <th>2</th>\n",
       "      <td>2021-12-22 12:30:00</td>\n",
       "      <td>3262.0</td>\n",
       "      <td>831.0</td>\n",
       "      <td>96.0</td>\n",
       "      <td>481.0</td>\n",
       "    </tr>\n",
       "    <tr>\n",
       "      <th>3</th>\n",
       "      <td>2021-12-22 13:00:00</td>\n",
       "      <td>3300.0</td>\n",
       "      <td>633.0</td>\n",
       "      <td>92.0</td>\n",
       "      <td>465.0</td>\n",
       "    </tr>\n",
       "    <tr>\n",
       "      <th>4</th>\n",
       "      <td>2021-12-22 13:30:00</td>\n",
       "      <td>3744.0</td>\n",
       "      <td>727.0</td>\n",
       "      <td>99.0</td>\n",
       "      <td>403.0</td>\n",
       "    </tr>\n",
       "    <tr>\n",
       "      <th>...</th>\n",
       "      <td>...</td>\n",
       "      <td>...</td>\n",
       "      <td>...</td>\n",
       "      <td>...</td>\n",
       "      <td>...</td>\n",
       "    </tr>\n",
       "    <tr>\n",
       "      <th>995</th>\n",
       "      <td>2022-01-12 08:30:00</td>\n",
       "      <td>1989.0</td>\n",
       "      <td>400.0</td>\n",
       "      <td>75.0</td>\n",
       "      <td>0.0</td>\n",
       "    </tr>\n",
       "    <tr>\n",
       "      <th>996</th>\n",
       "      <td>2022-01-12 09:00:00</td>\n",
       "      <td>1492.0</td>\n",
       "      <td>400.0</td>\n",
       "      <td>72.0</td>\n",
       "      <td>21.0</td>\n",
       "    </tr>\n",
       "    <tr>\n",
       "      <th>997</th>\n",
       "      <td>2022-01-12 09:30:00</td>\n",
       "      <td>1851.0</td>\n",
       "      <td>400.0</td>\n",
       "      <td>224.0</td>\n",
       "      <td>99.0</td>\n",
       "    </tr>\n",
       "    <tr>\n",
       "      <th>998</th>\n",
       "      <td>2022-01-12 10:00:00</td>\n",
       "      <td>2194.0</td>\n",
       "      <td>400.0</td>\n",
       "      <td>418.0</td>\n",
       "      <td>238.0</td>\n",
       "    </tr>\n",
       "    <tr>\n",
       "      <th>999</th>\n",
       "      <td>2022-01-12 10:30:00</td>\n",
       "      <td>1869.0</td>\n",
       "      <td>400.0</td>\n",
       "      <td>489.0</td>\n",
       "      <td>321.0</td>\n",
       "    </tr>\n",
       "  </tbody>\n",
       "</table>\n",
       "<p>1000 rows × 5 columns</p>\n",
       "</div>"
      ],
      "text/plain": [
       "                   Time      CO     CO2  PM 0.5   TVOC\n",
       "0   2021-12-22 11:00:00  3531.0  1045.0   152.0  594.0\n",
       "1   2021-12-22 12:00:00  3451.0  1146.0   139.0  629.0\n",
       "2   2021-12-22 12:30:00  3262.0   831.0    96.0  481.0\n",
       "3   2021-12-22 13:00:00  3300.0   633.0    92.0  465.0\n",
       "4   2021-12-22 13:30:00  3744.0   727.0    99.0  403.0\n",
       "..                  ...     ...     ...     ...    ...\n",
       "995 2022-01-12 08:30:00  1989.0   400.0    75.0    0.0\n",
       "996 2022-01-12 09:00:00  1492.0   400.0    72.0   21.0\n",
       "997 2022-01-12 09:30:00  1851.0   400.0   224.0   99.0\n",
       "998 2022-01-12 10:00:00  2194.0   400.0   418.0  238.0\n",
       "999 2022-01-12 10:30:00  1869.0   400.0   489.0  321.0\n",
       "\n",
       "[1000 rows x 5 columns]"
      ]
     },
     "execution_count": 69,
     "metadata": {},
     "output_type": "execute_result"
    }
   ],
   "source": [
    "# 데이터 불러오기\n",
    "dataset = data_load(files)\n",
    "print(dataset.shape)\n",
    "dataset"
   ]
  },
  {
   "cell_type": "code",
   "execution_count": 68,
   "id": "92b8b9d5",
   "metadata": {},
   "outputs": [
    {
     "name": "stdout",
     "output_type": "stream",
     "text": [
      "<class 'pandas.core.frame.DataFrame'>\n",
      "Int64Index: 1000 entries, 0 to 999\n",
      "Data columns (total 5 columns):\n",
      " #   Column  Non-Null Count  Dtype         \n",
      "---  ------  --------------  -----         \n",
      " 0   Time    1000 non-null   datetime64[ns]\n",
      " 1   CO      1000 non-null   float64       \n",
      " 2   CO2     1000 non-null   float64       \n",
      " 3   PM 0.5  1000 non-null   float64       \n",
      " 4   TVOC    1000 non-null   float64       \n",
      "dtypes: datetime64[ns](1), float64(4)\n",
      "memory usage: 46.9 KB\n"
     ]
    }
   ],
   "source": [
    "dataset.info()"
   ]
  },
  {
   "cell_type": "code",
   "execution_count": 70,
   "id": "6a6f2341",
   "metadata": {},
   "outputs": [
    {
     "data": {
      "text/html": [
       "<div>\n",
       "<style scoped>\n",
       "    .dataframe tbody tr th:only-of-type {\n",
       "        vertical-align: middle;\n",
       "    }\n",
       "\n",
       "    .dataframe tbody tr th {\n",
       "        vertical-align: top;\n",
       "    }\n",
       "\n",
       "    .dataframe thead th {\n",
       "        text-align: right;\n",
       "    }\n",
       "</style>\n",
       "<table border=\"1\" class=\"dataframe\">\n",
       "  <thead>\n",
       "    <tr style=\"text-align: right;\">\n",
       "      <th></th>\n",
       "      <th>CO</th>\n",
       "      <th>CO2</th>\n",
       "      <th>PM 0.5</th>\n",
       "      <th>TVOC</th>\n",
       "    </tr>\n",
       "  </thead>\n",
       "  <tbody>\n",
       "    <tr>\n",
       "      <th>count</th>\n",
       "      <td>1000.000000</td>\n",
       "      <td>1000.000000</td>\n",
       "      <td>1000.000000</td>\n",
       "      <td>1000.000000</td>\n",
       "    </tr>\n",
       "    <tr>\n",
       "      <th>mean</th>\n",
       "      <td>2284.403000</td>\n",
       "      <td>653.997000</td>\n",
       "      <td>187.914000</td>\n",
       "      <td>483.112000</td>\n",
       "    </tr>\n",
       "    <tr>\n",
       "      <th>std</th>\n",
       "      <td>829.642689</td>\n",
       "      <td>367.959989</td>\n",
       "      <td>240.599026</td>\n",
       "      <td>531.593261</td>\n",
       "    </tr>\n",
       "    <tr>\n",
       "      <th>min</th>\n",
       "      <td>675.000000</td>\n",
       "      <td>400.000000</td>\n",
       "      <td>6.800000</td>\n",
       "      <td>0.000000</td>\n",
       "    </tr>\n",
       "    <tr>\n",
       "      <th>25%</th>\n",
       "      <td>1560.750000</td>\n",
       "      <td>400.000000</td>\n",
       "      <td>54.000000</td>\n",
       "      <td>182.000000</td>\n",
       "    </tr>\n",
       "    <tr>\n",
       "      <th>50%</th>\n",
       "      <td>2278.500000</td>\n",
       "      <td>545.000000</td>\n",
       "      <td>105.500000</td>\n",
       "      <td>339.500000</td>\n",
       "    </tr>\n",
       "    <tr>\n",
       "      <th>75%</th>\n",
       "      <td>2895.250000</td>\n",
       "      <td>737.500000</td>\n",
       "      <td>213.250000</td>\n",
       "      <td>561.250000</td>\n",
       "    </tr>\n",
       "    <tr>\n",
       "      <th>max</th>\n",
       "      <td>4485.000000</td>\n",
       "      <td>2821.000000</td>\n",
       "      <td>1619.000000</td>\n",
       "      <td>3190.000000</td>\n",
       "    </tr>\n",
       "  </tbody>\n",
       "</table>\n",
       "</div>"
      ],
      "text/plain": [
       "                CO          CO2       PM 0.5         TVOC\n",
       "count  1000.000000  1000.000000  1000.000000  1000.000000\n",
       "mean   2284.403000   653.997000   187.914000   483.112000\n",
       "std     829.642689   367.959989   240.599026   531.593261\n",
       "min     675.000000   400.000000     6.800000     0.000000\n",
       "25%    1560.750000   400.000000    54.000000   182.000000\n",
       "50%    2278.500000   545.000000   105.500000   339.500000\n",
       "75%    2895.250000   737.500000   213.250000   561.250000\n",
       "max    4485.000000  2821.000000  1619.000000  3190.000000"
      ]
     },
     "execution_count": 70,
     "metadata": {},
     "output_type": "execute_result"
    }
   ],
   "source": [
    "dataset.describe()"
   ]
  },
  {
   "cell_type": "code",
   "execution_count": null,
   "id": "14c7fee3",
   "metadata": {},
   "outputs": [],
   "source": []
  },
  {
   "cell_type": "code",
   "execution_count": null,
   "id": "06ed79ce",
   "metadata": {},
   "outputs": [],
   "source": []
  }
 ],
 "metadata": {
  "kernelspec": {
   "display_name": "Python 3",
   "language": "python",
   "name": "python3"
  },
  "language_info": {
   "codemirror_mode": {
    "name": "ipython",
    "version": 3
   },
   "file_extension": ".py",
   "mimetype": "text/x-python",
   "name": "python",
   "nbconvert_exporter": "python",
   "pygments_lexer": "ipython3",
   "version": "3.8.8"
  }
 },
 "nbformat": 4,
 "nbformat_minor": 5
}
